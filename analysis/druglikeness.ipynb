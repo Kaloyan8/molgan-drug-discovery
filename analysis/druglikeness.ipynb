{
  "nbformat": 4,
  "nbformat_minor": 0,
  "metadata": {
    "colab": {
      "provenance": []
    },
    "kernelspec": {
      "name": "python3",
      "display_name": "Python 3"
    },
    "language_info": {
      "name": "python"
    }
  },
  "cells": [
    {
      "cell_type": "code",
      "source": [
        "!pip install rdkit-pypi numpy Pillow pandas seaborn matplotlib tqdm\n",
        "import pandas as pd\n",
        "import numpy as np\n",
        "import os\n",
        "from rdkit import Chem\n",
        "from rdkit.Chem import Descriptors, QED\n",
        "from rdkit import RDLogger\n",
        "from tqdm import tqdm\n",
        "\n",
        "\n"
      ],
      "metadata": {
        "id": "8OhJ-W-kis3u",
        "colab": {
          "base_uri": "https://localhost:8080/"
        },
        "outputId": "3fdd1428-9f19-4fb6-cc62-49f8e4279ae0"
      },
      "execution_count": 4,
      "outputs": [
        {
          "output_type": "stream",
          "name": "stdout",
          "text": [
            "Requirement already satisfied: rdkit-pypi in /usr/local/lib/python3.11/dist-packages (2022.9.5)\n",
            "Requirement already satisfied: numpy in /usr/local/lib/python3.11/dist-packages (2.0.2)\n",
            "Requirement already satisfied: Pillow in /usr/local/lib/python3.11/dist-packages (11.1.0)\n",
            "Requirement already satisfied: pandas in /usr/local/lib/python3.11/dist-packages (2.2.2)\n",
            "Requirement already satisfied: seaborn in /usr/local/lib/python3.11/dist-packages (0.13.2)\n",
            "Requirement already satisfied: matplotlib in /usr/local/lib/python3.11/dist-packages (3.10.0)\n",
            "Requirement already satisfied: tqdm in /usr/local/lib/python3.11/dist-packages (4.67.1)\n",
            "Requirement already satisfied: python-dateutil>=2.8.2 in /usr/local/lib/python3.11/dist-packages (from pandas) (2.8.2)\n",
            "Requirement already satisfied: pytz>=2020.1 in /usr/local/lib/python3.11/dist-packages (from pandas) (2025.2)\n",
            "Requirement already satisfied: tzdata>=2022.7 in /usr/local/lib/python3.11/dist-packages (from pandas) (2025.2)\n",
            "Requirement already satisfied: contourpy>=1.0.1 in /usr/local/lib/python3.11/dist-packages (from matplotlib) (1.3.1)\n",
            "Requirement already satisfied: cycler>=0.10 in /usr/local/lib/python3.11/dist-packages (from matplotlib) (0.12.1)\n",
            "Requirement already satisfied: fonttools>=4.22.0 in /usr/local/lib/python3.11/dist-packages (from matplotlib) (4.56.0)\n",
            "Requirement already satisfied: kiwisolver>=1.3.1 in /usr/local/lib/python3.11/dist-packages (from matplotlib) (1.4.8)\n",
            "Requirement already satisfied: packaging>=20.0 in /usr/local/lib/python3.11/dist-packages (from matplotlib) (24.2)\n",
            "Requirement already satisfied: pyparsing>=2.3.1 in /usr/local/lib/python3.11/dist-packages (from matplotlib) (3.2.3)\n",
            "Requirement already satisfied: six>=1.5 in /usr/local/lib/python3.11/dist-packages (from python-dateutil>=2.8.2->pandas) (1.17.0)\n"
          ]
        }
      ]
    },
    {
      "cell_type": "code",
      "execution_count": 9,
      "metadata": {
        "colab": {
          "base_uri": "https://localhost:8080/"
        },
        "id": "wifIAkgNu33b",
        "outputId": "e139bf00-75de-4b9d-d295-e7205117da3b"
      },
      "outputs": [
        {
          "output_type": "stream",
          "name": "stdout",
          "text": [
            "Read 101 SMILES strings from /content/generated_molecules.csv\n",
            "Analyzing molecules...\n"
          ]
        },
        {
          "output_type": "stream",
          "name": "stderr",
          "text": [
            "Processing SMILES: 100%|██████████| 101/101 [00:00<00:00, 517.50it/s]"
          ]
        },
        {
          "output_type": "stream",
          "name": "stdout",
          "text": [
            "\n",
            "--- Analysis Summary ---\n",
            "Total SMILES read: 101\n",
            "Valid SMILES syntax: 101 (100.0% of read)\n",
            "Chemically valid (Sanitized): 101 (100.0% of read)\n",
            "\n",
            "Molecules with rings: 99 (98.0%)\n",
            "Molecules with aromatic rings: 11 (10.9%)\n",
            "Molecules with double bonds: 83 (82.2%)\n",
            "Molecules with nitrogen: 100 (99.0%)\n",
            "Molecules with oxygen: 85 (84.2%)\n",
            "Molecules with N or O heteroatoms: 101 (100.0%)\n",
            "\n",
            "Drug-likeness metrics (Avg, Min, Max):\n",
            "  QED: avg=0.689, min=0.438, max=0.810\n",
            "  LogP: avg=1.614, min=-0.077, max=4.181\n",
            "  Molecular weight: avg=224.8, min=169.3, max=288.3\n",
            "  H-bond donors: avg=1.2, min=0, max=3\n",
            "  H-bond acceptors: avg=3.9, min=1, max=8\n",
            "  Rotatable bonds: avg=1.4, min=0, max=7\n",
            "  TPSA: avg=49.9, min=3.2, max=121.1\n",
            "\n",
            "  Pass Lipinski's Rule of Five: 101 (100.0%)\n",
            "\n",
            "Uniqueness (among sanitized): 74/101 (73.3%)\n"
          ]
        },
        {
          "output_type": "stream",
          "name": "stderr",
          "text": [
            "\n"
          ]
        }
      ],
      "source": [
        "input_filename = \"generated_molecules.csv\"\n",
        "input_directory = \"/content/\"\n",
        "input_path = os.path.join(input_directory, input_filename)\n",
        "\n",
        "read_smiles = []\n",
        "try:\n",
        "    # Assuming CSV with a 'SMILES' header\n",
        "    df_input = pd.read_csv(input_path)\n",
        "    if 'SMILES' in df_input.columns:\n",
        "         read_smiles = df_input['SMILES'].dropna().tolist()\n",
        "    else:\n",
        "         print(f\"Error: Could not find 'SMILES' column in {input_filename}\")\n",
        "         read_smiles = None\n",
        "\n",
        "    if read_smiles is not None:\n",
        "      print(f\"Read {len(read_smiles)} SMILES strings from {input_path}\")\n",
        "\n",
        "except Exception as e:\n",
        "    print(f\"Error reading file {input_path}: {e}\")\n",
        "    read_smiles = None\n",
        "\n",
        "# --- Perform Analysis ---\n",
        "analysis_results = []\n",
        "if read_smiles is not None:\n",
        "    print(\"Analyzing molecules...\")\n",
        "    for smi in tqdm(read_smiles, desc=\"Processing SMILES\"):\n",
        "        mol = None\n",
        "        sanitized = False\n",
        "        error_msg = None\n",
        "\n",
        "        try:\n",
        "            mol = Chem.MolFromSmiles(smi, sanitize=False)\n",
        "            if mol is None:\n",
        "                 error_msg = \"Invalid SMILES Syntax\"\n",
        "            else:\n",
        "                 Chem.SanitizeMol(mol)\n",
        "                 sanitized = True\n",
        "\n",
        "                 # --- Calculate Boolean Flags ---\n",
        "                 has_ring = mol.HasSubstructMatch(Chem.MolFromSmarts('[r]'))\n",
        "                 has_aromatic = mol.HasSubstructMatch(Chem.MolFromSmarts('[a]'))\n",
        "                 has_double = mol.HasSubstructMatch(Chem.MolFromSmarts('*=*'))\n",
        "                 has_n = mol.HasSubstructMatch(Chem.MolFromSmarts('[#7]'))\n",
        "                 has_o = mol.HasSubstructMatch(Chem.MolFromSmarts('[#8]'))\n",
        "\n",
        "                 # --- Calculate Descriptors ---\n",
        "                 mw = Descriptors.MolWt(mol)\n",
        "                 logp = Descriptors.MolLogP(mol)\n",
        "                 hbd = Descriptors.NumHDonors(mol)\n",
        "                 hba = Descriptors.NumHAcceptors(mol)\n",
        "                 rotb = Descriptors.NumRotatableBonds(mol)\n",
        "                 tpsa = Descriptors.TPSA(mol)\n",
        "                 qed_val = QED.qed(mol)\n",
        "\n",
        "                 # --- Lipinski Rule of Five Check ---\n",
        "                 violations = 0\n",
        "                 if mw > 500: violations += 1\n",
        "                 if logp > 5: violations += 1\n",
        "                 if hbd > 5: violations += 1\n",
        "                 if hba > 10: violations += 1\n",
        "                 passes_lipinski = (violations == 0)\n",
        "\n",
        "                 analysis_results.append({\n",
        "                     'SMILES': smi,\n",
        "                     'Valid_Mol': True,\n",
        "                     'Sanitized': True,\n",
        "                     'Has_Ring': has_ring,\n",
        "                     'Has_Aromatic_Ring': has_aromatic,\n",
        "                     'Has_Double_Bond': has_double,\n",
        "                     'Has_N': has_n,\n",
        "                     'Has_O': has_o,\n",
        "                     'QED': qed_val,\n",
        "                     'LogP': logp,\n",
        "                     'Molecular_Weight': mw,\n",
        "                     'H_Donors': hbd,\n",
        "                     'H_Acceptors': hba,\n",
        "                     'Rotatable_Bonds': rotb,\n",
        "                     'TPSA': tpsa,\n",
        "                     'Passes_Lipinski': passes_lipinski,\n",
        "                     'Error': None\n",
        "                 })\n",
        "\n",
        "        except Exception as e:\n",
        "             error_msg = f\"Processing Error: {e}\"\n",
        "\n",
        "        if not sanitized and mol is None:\n",
        "             analysis_results.append({'SMILES': smi, 'Valid_Mol': False, 'Sanitized': False, 'Error': error_msg})\n",
        "        elif not sanitized and mol is not None:\n",
        "             analysis_results.append({'SMILES': smi, 'Valid_Mol': True, 'Sanitized': False, 'Error': error_msg})\n",
        "\n",
        "# --- Calculate and Print Statistics ---\n",
        "print(\"\\n--- Analysis Summary ---\")\n",
        "df_analysis = pd.DataFrame(analysis_results)\n",
        "\n",
        "# Filter for rows where molecule was valid AND sanitized successfully\n",
        "valid_df = df_analysis[df_analysis['Sanitized'] == True].copy()\n",
        "\n",
        "n_total_read = len(read_smiles) if read_smiles else 0\n",
        "n_valid_syntax = df_analysis['Valid_Mol'].sum()\n",
        "n_sanitized = len(valid_df)\n",
        "\n",
        "print(f\"Total SMILES read: {n_total_read}\")\n",
        "print(f\"Valid SMILES syntax: {n_valid_syntax} ({n_valid_syntax/n_total_read*100:.1f}% of read)\" if n_total_read > 0 else \"\")\n",
        "print(f\"Chemically valid (Sanitized): {n_sanitized} ({n_sanitized/n_total_read*100:.1f}% of read)\" if n_total_read > 0 else \"\")\n",
        "\n",
        "if n_sanitized > 0:\n",
        "    # --- Calculate counts and percentages ---\n",
        "    n_with_rings = valid_df['Has_Ring'].sum()\n",
        "    n_with_aromatic = valid_df['Has_Aromatic_Ring'].sum()\n",
        "    n_with_double_bonds = valid_df['Has_Double_Bond'].sum()\n",
        "    n_with_n = valid_df['Has_N'].sum()\n",
        "    n_with_o = valid_df['Has_O'].sum()\n",
        "    n_with_heteroatoms = valid_df[valid_df['Has_N'] | valid_df['Has_O']].shape[0]\n",
        "    n_passing_lipinski = valid_df['Passes_Lipinski'].sum()\n",
        "\n",
        "    print(f\"\\nMolecules with rings: {n_with_rings} ({n_with_rings/n_sanitized*100:.1f}%)\")\n",
        "    print(f\"Molecules with aromatic rings: {n_with_aromatic} ({n_with_aromatic/n_sanitized*100:.1f}%)\")\n",
        "    print(f\"Molecules with double bonds: {n_with_double_bonds} ({n_with_double_bonds/n_sanitized*100:.1f}%)\")\n",
        "    print(f\"Molecules with nitrogen: {n_with_n} ({n_with_n/n_sanitized*100:.1f}%)\")\n",
        "    print(f\"Molecules with oxygen: {n_with_o} ({n_with_o/n_sanitized*100:.1f}%)\")\n",
        "    print(f\"Molecules with N or O heteroatoms: {n_with_heteroatoms} ({n_with_heteroatoms/n_sanitized*100:.1f}%)\")\n",
        "\n",
        "    # --- Compute summary statistics for numerical properties ---\n",
        "    print(\"\\nDrug-likeness metrics (Avg, Min, Max):\")\n",
        "    print(f\"  QED: avg={valid_df['QED'].mean():.3f}, min={valid_df['QED'].min():.3f}, max={valid_df['QED'].max():.3f}\")\n",
        "    print(f\"  LogP: avg={valid_df['LogP'].mean():.3f}, min={valid_df['LogP'].min():.3f}, max={valid_df['LogP'].max():.3f}\")\n",
        "    print(f\"  Molecular weight: avg={valid_df['Molecular_Weight'].mean():.1f}, min={valid_df['Molecular_Weight'].min():.1f}, max={valid_df['Molecular_Weight'].max():.1f}\")\n",
        "    print(f\"  H-bond donors: avg={valid_df['H_Donors'].mean():.1f}, min={valid_df['H_Donors'].min()}, max={valid_df['H_Donors'].max()}\")\n",
        "    print(f\"  H-bond acceptors: avg={valid_df['H_Acceptors'].mean():.1f}, min={valid_df['H_Acceptors'].min()}, max={valid_df['H_Acceptors'].max()}\")\n",
        "    print(f\"  Rotatable bonds: avg={valid_df['Rotatable_Bonds'].mean():.1f}, min={valid_df['Rotatable_Bonds'].min()}, max={valid_df['Rotatable_Bonds'].max()}\")\n",
        "    print(f\"  TPSA: avg={valid_df['TPSA'].mean():.1f}, min={valid_df['TPSA'].min():.1f}, max={valid_df['TPSA'].max():.1f}\")\n",
        "    print(f\"\\n  Pass Lipinski's Rule of Five: {n_passing_lipinski} ({n_passing_lipinski/n_sanitized*100:.1f}%)\")\n",
        "\n",
        "    # --- Uniqueness ---\n",
        "    unique_smiles = set(valid_df['SMILES'])\n",
        "    print(f\"\\nUniqueness (among sanitized): {len(unique_smiles)}/{n_sanitized} ({len(unique_smiles)/n_sanitized*100:.1f}%)\")\n",
        "\n",
        "else:\n",
        "    print(\"\\nNo chemically valid (sanitized) molecules found to calculate statistics.\")\n",
        "\n"
      ]
    },
    {
      "cell_type": "code",
      "source": [
        "analysis_output_filename = \"druglikeness.csv\"\n",
        "analysis_output_directory = \"/content/\"\n",
        "analysis_output_path = os.path.join(analysis_output_directory, analysis_output_filename)\n",
        "\n",
        "\n",
        "if 'df_analysis' in locals() and isinstance(df_analysis, pd.DataFrame) and not df_analysis.empty:\n",
        "    df_analysis.to_csv(analysis_output_path, index=False)\n",
        "    print(f\"\\nAnalysis results saved successfully to: {analysis_output_path}\")\n",
        "else:\n",
        "    print(\"\\nAnalysis DataFrame ('df_analysis') not found or is empty. Cannot save CSV.\")\n",
        "\n"
      ],
      "metadata": {
        "colab": {
          "base_uri": "https://localhost:8080/"
        },
        "id": "pbz6QXsNoS0P",
        "outputId": "4e4e116f-5cd3-40ca-c514-87f9d965611f"
      },
      "execution_count": 10,
      "outputs": [
        {
          "output_type": "stream",
          "name": "stdout",
          "text": [
            "\n",
            "Analysis results saved successfully to: /content/druglikeness.csv\n"
          ]
        }
      ]
    }
  ]
}