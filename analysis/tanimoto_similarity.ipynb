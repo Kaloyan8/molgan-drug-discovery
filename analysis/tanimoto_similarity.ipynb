{
  "nbformat": 4,
  "nbformat_minor": 0,
  "metadata": {
    "colab": {
      "provenance": [],
      "gpuType": "T4"
    },
    "kernelspec": {
      "name": "python3",
      "display_name": "Python 3"
    },
    "language_info": {
      "name": "python"
    },
    "accelerator": "GPU"
  },
  "cells": [
    {
      "cell_type": "code",
      "source": [
        "!pip install rdkit-pypi\n",
        "!pip install rdkit-pypi --upgrade\n",
        "\n",
        "!pip install \"numpy<2.0\"\n",
        "!pip install Pillow\n",
        "\n",
        "import pandas as pd\n",
        "import numpy as np\n",
        "from rdkit import Chem\n",
        "from rdkit import DataStructs\n",
        "from rdkit.Chem import rdMolDescriptors\n",
        "from rdkit.Chem import MACCSkeys\n",
        "import csv\n",
        "from tqdm import tqdm"
      ],
      "metadata": {
        "id": "ir8PxvoUkVMH"
      },
      "execution_count": null,
      "outputs": []
    },
    {
      "cell_type": "code",
      "execution_count": 1,
      "metadata": {
        "colab": {
          "base_uri": "https://localhost:8080/"
        },
        "id": "1LKwF7Rovcf0",
        "outputId": "b8718785-3f81-47c1-9e25-b4ab1145f07c"
      },
      "outputs": [
        {
          "output_type": "stream",
          "name": "stdout",
          "text": [
            "Requirement already satisfied: rdkit-pypi in /usr/local/lib/python3.11/dist-packages (2022.9.5)\n",
            "Requirement already satisfied: numpy in /usr/local/lib/python3.11/dist-packages (from rdkit-pypi) (1.26.4)\n",
            "Requirement already satisfied: Pillow in /usr/local/lib/python3.11/dist-packages (from rdkit-pypi) (11.1.0)\n",
            "Requirement already satisfied: rdkit-pypi in /usr/local/lib/python3.11/dist-packages (2022.9.5)\n",
            "Requirement already satisfied: numpy in /usr/local/lib/python3.11/dist-packages (from rdkit-pypi) (1.26.4)\n",
            "Requirement already satisfied: Pillow in /usr/local/lib/python3.11/dist-packages (from rdkit-pypi) (11.1.0)\n",
            "Requirement already satisfied: numpy<2.0 in /usr/local/lib/python3.11/dist-packages (1.26.4)\n",
            "Requirement already satisfied: Pillow in /usr/local/lib/python3.11/dist-packages (11.1.0)\n"
          ]
        },
        {
          "output_type": "stream",
          "name": "stderr",
          "text": [
            "Calculating similarities: 100%|██████████| 101/101 [50:43<00:00, 30.14s/it]"
          ]
        },
        {
          "output_type": "stream",
          "name": "stdout",
          "text": [
            "\n",
            "Summary Statistics:\n",
            "Average Tanimoto similarity: 0.610\n",
            "Maximum Tanimoto similarity: 0.842\n",
            "Minimum Tanimoto similarity: 0.431\n",
            "\n",
            "Top 5 most similar pairs:\n",
            "Generated: Cc1nc2c(c(=O)n1C1CCNC1)C=C2\n",
            "Original:  Cc1nc2ccccc2c(=O)n1C1CCNCC1\n",
            "Similarity: 0.842\n",
            "\n",
            "Generated: CC1=Cc2nc(C)n(C3CCNC3)c(=O)c21\n",
            "Original:  Cc1ccc2nc(C)n(C3CCNCC3)c(=O)c2c1\n",
            "Similarity: 0.817\n",
            "\n",
            "Generated: CC1CCN(C)c2cccn2-c2nc1cs2\n",
            "Original:  Cc1cccc2nc(N3CCCN(C)CC3)sc12\n",
            "Similarity: 0.776\n",
            "\n",
            "Generated: CCC1CCC(C)CN(CC)C1\n",
            "Original:  Cc1cccc(C2CCCCN(C)C2)c1\n",
            "Similarity: 0.742\n",
            "\n",
            "Generated: CN1C=CCN2CCC(CCC=CC1=O)C2\n",
            "Original:  CN1CCC(N2CCCC2=O)CC1\n",
            "Similarity: 0.739\n",
            "\n",
            "\n",
            "Results have been saved to 'tanimoto_similarities.csv'\n"
          ]
        },
        {
          "output_type": "stream",
          "name": "stderr",
          "text": [
            "\n"
          ]
        }
      ],
      "source": [
        "def calculate_similarity_maccs(smiles1, smiles2):\n",
        "    \"\"\"Calculate Tanimoto similarity between two SMILES strings using MACCS keys\"\"\"\n",
        "    try:\n",
        "        mol1 = Chem.MolFromSmiles(smiles1)\n",
        "        mol2 = Chem.MolFromSmiles(smiles2)\n",
        "        if mol1 is None or mol2 is None:\n",
        "            return 0.0\n",
        "        fp1 = MACCSkeys.GenMACCSKeys(mol1)\n",
        "        fp2 = MACCSkeys.GenMACCSKeys(mol2)\n",
        "        return DataStructs.TanimotoSimilarity(fp1, fp2)\n",
        "    except:\n",
        "        return 0.0\n",
        "\n",
        "\n",
        "df_smiles = pd.read_csv('generated_molecules.csv')\n",
        "generated_smiles = df_smiles['SMILES'].tolist()\n",
        "\n",
        "\n",
        "df_original = pd.read_csv('enumerated_smiles.csv')\n",
        "original_smiles = df_original['Enumerated_SMILES'].tolist()\n",
        "\n",
        "# Calculate similarities for each generated molecule\n",
        "results = []\n",
        "for gen_smile in tqdm(generated_smiles, desc=\"Calculating similarities\"):\n",
        "    mol = Chem.MolFromSmiles(gen_smile)\n",
        "    max_similarity = 0.0\n",
        "    most_similar_smile = \"\"\n",
        "\n",
        "    # Find the maximum similarity with any molecule in the original database\n",
        "    for orig_smile in original_smiles:\n",
        "        sim = calculate_similarity_maccs(gen_smile, orig_smile)\n",
        "        if sim > max_similarity:\n",
        "            max_similarity = sim\n",
        "            most_similar_smile = orig_smile\n",
        "\n",
        "    results.append({\n",
        "        'SMILES': gen_smile,\n",
        "        'mol': mol,\n",
        "        'ts_index': max_similarity,\n",
        "        'most_similar_original': most_similar_smile\n",
        "    })\n",
        "\n",
        "\n",
        "df_results = pd.DataFrame(results)\n",
        "df_results.to_csv('tanimoto_similarities.csv', index=False)\n",
        "\n",
        "# Print summary statistics\n",
        "print(\"\\nSummary Statistics:\")\n",
        "print(f\"Average Tanimoto similarity: {df_results['ts_index'].mean():.3f}\")\n",
        "print(f\"Maximum Tanimoto similarity: {df_results['ts_index'].max():.3f}\")\n",
        "print(f\"Minimum Tanimoto similarity: {df_results['ts_index'].min():.3f}\")\n",
        "\n",
        "# Print top 5 most similar pairs\n",
        "print(\"\\nTop 5 most similar pairs:\")\n",
        "top_5 = df_results.nlargest(5, 'ts_index')\n",
        "for _, row in top_5.iterrows():\n",
        "    print(f\"Generated: {row['SMILES']}\")\n",
        "    print(f\"Original:  {row['most_similar_original']}\")\n",
        "    print(f\"Similarity: {row['ts_index']:.3f}\\n\")\n",
        "\n",
        "print(\"\\nResults have been saved to 'tanimoto_similarities.csv'\")"
      ]
    }
  ]
}